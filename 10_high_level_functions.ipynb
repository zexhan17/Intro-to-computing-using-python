{
 "cells": [
  {
   "cell_type": "markdown",
   "metadata": {
    "slideshow": {
     "slide_type": "slide"
    }
   },
   "source": [
    "# Higher Order Functions"
   ]
  },
  {
   "cell_type": "code",
   "execution_count": 45,
   "metadata": {
    "collapsed": true,
    "slideshow": {
     "slide_type": "slide"
    }
   },
   "outputs": [],
   "source": [
    "# Defined by the weather people \n",
    "def crude_good_enough(guess, x): \n",
    "    if abs(guess * guess - x) < 3: \n",
    "        return True\n",
    "    else: \n",
    "        return False "
   ]
  },
  {
   "cell_type": "code",
   "execution_count": 46,
   "metadata": {
    "collapsed": true,
    "slideshow": {
     "slide_type": "slide"
    }
   },
   "outputs": [],
   "source": [
    "def avg(a, b): \n",
    "    return (a + b) / 2.0\n",
    "\n",
    "def improve_guess(guess, x): \n",
    "    return avg(guess, float(x)/guess)"
   ]
  },
  {
   "cell_type": "code",
   "execution_count": 47,
   "metadata": {
    "collapsed": true,
    "slideshow": {
     "slide_type": "slide"
    }
   },
   "outputs": [],
   "source": [
    "def sqrt(x, good_enough, guess=0.1): \n",
    "    print \"Trying:\", guess, \"-- Value:\", guess*guess\n",
    "    if good_enough(guess, x): \n",
    "        return guess \n",
    "    \n",
    "    else: \n",
    "        guess = improve_guess(guess, x)  \n",
    "        return sqrt(x, good_enough, guess)"
   ]
  },
  {
   "cell_type": "code",
   "execution_count": 48,
   "metadata": {
    "slideshow": {
     "slide_type": "slide"
    }
   },
   "outputs": [
    {
     "name": "stdout",
     "output_type": "stream",
     "text": [
      "Trying: 0.1 -- Value: 0.01\n",
      "Trying: 180.05 -- Value: 32418.0025\n",
      "Trying: 90.1249722299 -- Value: 8122.51061945\n",
      "Trying: 45.262208784 -- Value: 2048.66754401\n",
      "Trying: 23.0287871495 -- Value: 530.325037577\n",
      "Trying: 12.2960239699 -- Value: 151.192205469\n",
      "Trying: 7.61189982741 -- Value: 57.9410189825\n",
      "Trying: 6.17066836877 -- Value: 38.0771481174\n"
     ]
    },
    {
     "data": {
      "text/plain": [
       "6.170668368771986"
      ]
     },
     "execution_count": 48,
     "metadata": {},
     "output_type": "execute_result"
    }
   ],
   "source": [
    "sqrt(36, crude_good_enough)"
   ]
  },
  {
   "cell_type": "code",
   "execution_count": 49,
   "metadata": {
    "collapsed": true,
    "slideshow": {
     "slide_type": "slide"
    }
   },
   "outputs": [],
   "source": [
    "# By the nuclear reactor people\n",
    "def very_accurate_good_enough(guess, x): \n",
    "    if abs(guess * guess - x) < 0.00000000001: \n",
    "        return True\n",
    "    else: \n",
    "        return False "
   ]
  },
  {
   "cell_type": "code",
   "execution_count": 50,
   "metadata": {
    "slideshow": {
     "slide_type": "slide"
    }
   },
   "outputs": [
    {
     "name": "stdout",
     "output_type": "stream",
     "text": [
      "Trying: 0.1 -- Value: 0.01\n",
      "Trying: 180.05 -- Value: 32418.0025\n",
      "Trying: 90.1249722299 -- Value: 8122.51061945\n",
      "Trying: 45.262208784 -- Value: 2048.66754401\n",
      "Trying: 23.0287871495 -- Value: 530.325037577\n",
      "Trying: 12.2960239699 -- Value: 151.192205469\n",
      "Trying: 7.61189982741 -- Value: 57.9410189825\n",
      "Trying: 6.17066836877 -- Value: 38.0771481174\n",
      "Trying: 6.00236017319 -- Value: 36.0283276487\n",
      "Trying: 6.00000046402 -- Value: 36.0000055682\n",
      "Trying: 6.0 -- Value: 36.0\n"
     ]
    },
    {
     "data": {
      "text/plain": [
       "6.000000000000018"
      ]
     },
     "execution_count": 50,
     "metadata": {},
     "output_type": "execute_result"
    }
   ],
   "source": [
    "sqrt(36, very_accurate_good_enough)"
   ]
  },
  {
   "cell_type": "markdown",
   "metadata": {
    "slideshow": {
     "slide_type": "slide"
    }
   },
   "source": [
    "# Handling Complexity"
   ]
  },
  {
   "cell_type": "markdown",
   "metadata": {},
   "source": [
    "Recall the fib method we wrote earlier. "
   ]
  },
  {
   "cell_type": "code",
   "execution_count": 2,
   "metadata": {
    "collapsed": true
   },
   "outputs": [],
   "source": [
    "def fib(n): \n",
    "    if n <= 1:\n",
    "        return n \n",
    "    \n",
    "    else: \n",
    "        return fib(n-2) + fib(n-1)"
   ]
  },
  {
   "cell_type": "code",
   "execution_count": 112,
   "metadata": {
    "slideshow": {
     "slide_type": "slide"
    }
   },
   "outputs": [
    {
     "name": "stdout",
     "output_type": "stream",
     "text": [
      "CPU times: user 53.5 s, sys: 221 ms, total: 53.7 s\n",
      "Wall time: 54 s\n"
     ]
    },
    {
     "data": {
      "text/plain": [
       "102334155"
      ]
     },
     "execution_count": 112,
     "metadata": {},
     "output_type": "execute_result"
    }
   ],
   "source": [
    "%time fib(40) "
   ]
  },
  {
   "cell_type": "markdown",
   "metadata": {},
   "source": [
    "This will take a bit of time so let's see what's wrong. "
   ]
  },
  {
   "cell_type": "code",
   "execution_count": null,
   "metadata": {
    "collapsed": true
   },
   "outputs": [],
   "source": []
  },
  {
   "cell_type": "markdown",
   "metadata": {
    "slideshow": {
     "slide_type": "slide"
    }
   },
   "source": [
    "We can use the concept of higher-order functions to tackle this issue. "
   ]
  },
  {
   "cell_type": "code",
   "execution_count": 1,
   "metadata": {
    "collapsed": true
   },
   "outputs": [],
   "source": [
    "def logger(f): \n",
    "    \n",
    "    def wrapper(n): \n",
    "        print \"I'm going to call a function.\"\n",
    "        v = f(n)\n",
    "        print \"The function returned: \", v\n",
    "        return v \n",
    "        \n",
    "    return wrapper    "
   ]
  },
  {
   "cell_type": "code",
   "execution_count": 4,
   "metadata": {
    "collapsed": true,
    "slideshow": {
     "slide_type": "-"
    }
   },
   "outputs": [],
   "source": [
    "logged_fib = logger(fib)  # remember, fib is just a name!"
   ]
  },
  {
   "cell_type": "code",
   "execution_count": 5,
   "metadata": {
    "slideshow": {
     "slide_type": "slide"
    }
   },
   "outputs": [
    {
     "name": "stdout",
     "output_type": "stream",
     "text": [
      "I'm going to call a function.\n",
      "The function returned:  3\n"
     ]
    },
    {
     "data": {
      "text/plain": [
       "3"
      ]
     },
     "execution_count": 5,
     "metadata": {},
     "output_type": "execute_result"
    }
   ],
   "source": [
    "logged_fib(4)"
   ]
  },
  {
   "cell_type": "markdown",
   "metadata": {
    "slideshow": {
     "slide_type": "-"
    }
   },
   "source": [
    "Now that we can do stuff before the `fib` call, let's see if we can save some values that are repeatedly needed. "
   ]
  },
  {
   "cell_type": "code",
   "execution_count": 113,
   "metadata": {
    "collapsed": true,
    "slideshow": {
     "slide_type": "slide"
    }
   },
   "outputs": [],
   "source": [
    "def memoize(f):\n",
    "    mem = {}\n",
    "    \n",
    "    def wrapper(x):\n",
    "        if x not in mem:            \n",
    "            mem[x] = f(x)\n",
    "            \n",
    "        return mem[x]\n",
    "    \n",
    "    return wrapper"
   ]
  },
  {
   "cell_type": "code",
   "execution_count": 114,
   "metadata": {
    "collapsed": true
   },
   "outputs": [],
   "source": [
    "fib = memoize(fib)"
   ]
  },
  {
   "cell_type": "code",
   "execution_count": 115,
   "metadata": {
    "slideshow": {
     "slide_type": "slide"
    }
   },
   "outputs": [
    {
     "name": "stdout",
     "output_type": "stream",
     "text": [
      "CPU times: user 93 µs, sys: 35 µs, total: 128 µs\n",
      "Wall time: 107 µs\n"
     ]
    },
    {
     "data": {
      "text/plain": [
       "102334155"
      ]
     },
     "execution_count": 115,
     "metadata": {},
     "output_type": "execute_result"
    }
   ],
   "source": [
    "%time fib(40)"
   ]
  },
  {
   "cell_type": "markdown",
   "metadata": {},
   "source": [
    "That's about **450,000** times speedup! "
   ]
  },
  {
   "cell_type": "markdown",
   "metadata": {},
   "source": [
    "### Syntactic Sugar"
   ]
  },
  {
   "cell_type": "markdown",
   "metadata": {},
   "source": [
    "We can write this in another way. "
   ]
  },
  {
   "cell_type": "code",
   "execution_count": 1,
   "metadata": {
    "collapsed": true
   },
   "outputs": [],
   "source": [
    "def memoize(f):\n",
    "    mem = {}\n",
    "    \n",
    "    def wrapper(x):\n",
    "        if x not in mem:            \n",
    "            mem[x] = f(x)\n",
    "            \n",
    "        return mem[x]\n",
    "    \n",
    "    return wrapper"
   ]
  },
  {
   "cell_type": "code",
   "execution_count": 2,
   "metadata": {
    "collapsed": true
   },
   "outputs": [],
   "source": [
    "@memoize             # this is called a decorator \n",
    "def fib(n): \n",
    "    if n <= 1:\n",
    "        return n \n",
    "    \n",
    "    else: \n",
    "        return fib(n-1) + fib(n-2)"
   ]
  },
  {
   "cell_type": "code",
   "execution_count": 6,
   "metadata": {},
   "outputs": [
    {
     "data": {
      "text/plain": [
       "12586269025"
      ]
     },
     "execution_count": 6,
     "metadata": {},
     "output_type": "execute_result"
    }
   ],
   "source": [
    "fib(50)"
   ]
  },
  {
   "cell_type": "markdown",
   "metadata": {},
   "source": [
    "And now you can memoize (almost) any function with ease -- Just add the decorator to it. \n",
    "\n",
    "You'll get to see much more of this in \"Analysis of Algorithms\" course (*inshaallah*). "
   ]
  },
  {
   "cell_type": "code",
   "execution_count": null,
   "metadata": {
    "collapsed": true
   },
   "outputs": [],
   "source": []
  }
 ],
 "metadata": {
  "celltoolbar": "Slideshow",
  "kernelspec": {
   "display_name": "Python 2",
   "language": "python",
   "name": "python2"
  },
  "language_info": {
   "codemirror_mode": {
    "name": "ipython",
    "version": 2
   },
   "file_extension": ".py",
   "mimetype": "text/x-python",
   "name": "python",
   "nbconvert_exporter": "python",
   "pygments_lexer": "ipython2",
   "version": "2.7.13"
  }
 },
 "nbformat": 4,
 "nbformat_minor": 2
}
