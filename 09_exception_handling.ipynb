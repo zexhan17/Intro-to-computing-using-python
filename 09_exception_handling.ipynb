{
 "cells": [
  {
   "cell_type": "markdown",
   "metadata": {
    "slideshow": {
     "slide_type": "slide"
    }
   },
   "source": [
    "# Exception Handling "
   ]
  },
  {
   "cell_type": "code",
   "execution_count": null,
   "metadata": {
    "slideshow": {
     "slide_type": "slide"
    }
   },
   "outputs": [],
   "source": [
    "v    # remember this guy? "
   ]
  },
  {
   "cell_type": "code",
   "execution_count": null,
   "metadata": {
    "slideshow": {
     "slide_type": "slide"
    }
   },
   "outputs": [],
   "source": [
    "f = open(\"four-oh-four.txt\", 'r')"
   ]
  },
  {
   "cell_type": "code",
   "execution_count": null,
   "metadata": {
    "slideshow": {
     "slide_type": "slide"
    }
   },
   "outputs": [],
   "source": [
    "int('a0')"
   ]
  },
  {
   "cell_type": "markdown",
   "metadata": {
    "slideshow": {
     "slide_type": "slide"
    }
   },
   "source": [
    "Other examples: database connectivity, internet connectivity, bad values by users"
   ]
  },
  {
   "cell_type": "code",
   "execution_count": null,
   "metadata": {
    "collapsed": true,
    "slideshow": {
     "slide_type": "slide"
    }
   },
   "outputs": [],
   "source": [
    "def div(num, den): \n",
    "    return num / float(den)"
   ]
  },
  {
   "cell_type": "code",
   "execution_count": null,
   "metadata": {
    "slideshow": {
     "slide_type": "fragment"
    }
   },
   "outputs": [],
   "source": [
    "div(4, 0)"
   ]
  },
  {
   "cell_type": "code",
   "execution_count": null,
   "metadata": {
    "slideshow": {
     "slide_type": "slide"
    }
   },
   "outputs": [],
   "source": [
    "div(4, 0)"
   ]
  },
  {
   "cell_type": "markdown",
   "metadata": {
    "slideshow": {
     "slide_type": "slide"
    }
   },
   "source": [
    "Ok, that's bad but expected. However, this is not the normal case. It's an exceptional case. So, we need to handle this exception. "
   ]
  },
  {
   "cell_type": "code",
   "execution_count": null,
   "metadata": {
    "slideshow": {
     "slide_type": "slide"
    }
   },
   "outputs": [],
   "source": [
    "x = 0\n",
    "try: \n",
    "    print \"Div 4 by 2 is:\", div(4, x)\n",
    "    print \"Everything divided successfully\" \n",
    "    \n",
    "except ZeroDivisionError: \n",
    "    print \"Do not ask me to divide by 0 please.\"\n",
    "    \n",
    "print \"done\""
   ]
  },
  {
   "cell_type": "markdown",
   "metadata": {
    "slideshow": {
     "slide_type": "slide"
    }
   },
   "source": [
    "## Bubbling Exceptions "
   ]
  },
  {
   "cell_type": "code",
   "execution_count": null,
   "metadata": {
    "collapsed": true
   },
   "outputs": [],
   "source": [
    "def calculator(op, n1, n2): \n",
    "    if op == 'div': \n",
    "        return div(n1, n2)\n",
    "    elif op == 'mul': \n",
    "        return mul(n1, n2) "
   ]
  },
  {
   "cell_type": "code",
   "execution_count": null,
   "metadata": {
    "slideshow": {
     "slide_type": "slide"
    }
   },
   "outputs": [],
   "source": [
    "print calculator('div', 4, 0)\n",
    "print \"done\""
   ]
  },
  {
   "cell_type": "code",
   "execution_count": null,
   "metadata": {
    "slideshow": {
     "slide_type": "slide"
    }
   },
   "outputs": [],
   "source": [
    "x = 0\n",
    "try: \n",
    "    print \"Div 4 by 0 is:\", calculator('div', 4, x)\n",
    "except ZeroDivisionError: \n",
    "    print \"Do not ask me to divide by 0 please.\"\n",
    "    \n",
    "print \"Done\" "
   ]
  },
  {
   "cell_type": "markdown",
   "metadata": {
    "slideshow": {
     "slide_type": "slide"
    }
   },
   "source": [
    "## Exception Hierarchy "
   ]
  },
  {
   "cell_type": "code",
   "execution_count": null,
   "metadata": {
    "slideshow": {
     "slide_type": "slide"
    }
   },
   "outputs": [],
   "source": [
    "x = 2\n",
    "try: \n",
    "    print \"Div 4 by x is:\", calculator('div', 4, x)\n",
    "    open('missing-file.txt')\n",
    "    print \"done\"\n",
    "except ZeroDivisionError: \n",
    "    print \"Do not ask me to divide by 0 please.\"\n",
    "print \"done\""
   ]
  },
  {
   "cell_type": "code",
   "execution_count": null,
   "metadata": {
    "slideshow": {
     "slide_type": "slide"
    }
   },
   "outputs": [],
   "source": [
    "x = 0     # change to 0 and see  \n",
    "try: \n",
    "    calculator('div', 4, x)   \n",
    "    open('missing-file.txt', 'r')\n",
    "except ZeroDivisionError: \n",
    "    print \"Do not ask me to divide by 0 please.\"\n",
    "except IOError: \n",
    "    print \"File not found\""
   ]
  },
  {
   "cell_type": "code",
   "execution_count": null,
   "metadata": {
    "slideshow": {
     "slide_type": "slide"
    }
   },
   "outputs": [],
   "source": [
    "try: \n",
    "    calculator('div', 4, x)   # change to 2 and see \n",
    "    open('missing-file', 'r')\n",
    "except Exception:      \n",
    "    print \"No idea what went wrong!\" # hence, don't do this"
   ]
  },
  {
   "cell_type": "markdown",
   "metadata": {
    "slideshow": {
     "slide_type": "slide"
    }
   },
   "source": [
    "## Raising Exceptions"
   ]
  },
  {
   "cell_type": "code",
   "execution_count": null,
   "metadata": {
    "collapsed": true,
    "slideshow": {
     "slide_type": "slide"
    }
   },
   "outputs": [],
   "source": [
    "# remember our square root example: \n",
    "def sqrt(x, guess = 1.0): \n",
    "    if x < 0: \n",
    "        return None  \n",
    "    \n",
    "    # calculate square root and return value \n",
    "    return 6"
   ]
  },
  {
   "cell_type": "code",
   "execution_count": null,
   "metadata": {
    "slideshow": {
     "slide_type": "slide"
    }
   },
   "outputs": [],
   "source": [
    "print sqrt(-2)"
   ]
  },
  {
   "cell_type": "code",
   "execution_count": null,
   "metadata": {
    "collapsed": true,
    "slideshow": {
     "slide_type": "slide"
    }
   },
   "outputs": [],
   "source": [
    "# remember our square root example: \n",
    "def sqrt(x, guess = 1.0): \n",
    "    \"\"\"Calculate square root of a positive number. \n",
    "        Raises a ValueError if a negative number is passed to it.\"\"\"\n",
    "    \n",
    "    if x < 0: \n",
    "        raise ValueError, \"Cannot find square root of negative numbers\" \n",
    "    \n",
    "    # calculate square root and return value \n",
    "    return 6"
   ]
  },
  {
   "cell_type": "code",
   "execution_count": null,
   "metadata": {
    "slideshow": {
     "slide_type": "slide"
    }
   },
   "outputs": [],
   "source": [
    "try:\n",
    "\n",
    "    sqrt(-4)   # it's the caller's responsibility to handle the exeption\n",
    "\n",
    "except ValueError:\n",
    "    print \"Bad number \"\n",
    "\n",
    "print \"Done\""
   ]
  },
  {
   "cell_type": "markdown",
   "metadata": {
    "slideshow": {
     "slide_type": "slide"
    }
   },
   "source": [
    "## Reading Assignment \n",
    "\n",
    "Read up on the official Python exceptions documentation at: https://docs.python.org/2.7/tutorial/errors.html (or whichever Python version you are using.)"
   ]
  }
 ],
 "metadata": {
  "celltoolbar": "Slideshow",
  "kernelspec": {
   "display_name": "Python 2",
   "language": "python",
   "name": "python2"
  },
  "language_info": {
   "codemirror_mode": {
    "name": "ipython",
    "version": 2
   },
   "file_extension": ".py",
   "mimetype": "text/x-python",
   "name": "python",
   "nbconvert_exporter": "python",
   "pygments_lexer": "ipython2",
   "version": "2.7.13"
  },
  "livereveal": {
   "transition": "fade"
  }
 },
 "nbformat": 4,
 "nbformat_minor": 2
}
